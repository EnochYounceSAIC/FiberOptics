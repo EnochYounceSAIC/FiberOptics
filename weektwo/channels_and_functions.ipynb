{
  "cells": [
    {
      "cell_type": "markdown",
      "metadata": {
        "id": "view-in-github",
        "colab_type": "text"
      },
      "source": [
        "<a href=\"https://colab.research.google.com/github/EnochYounceSAIC/FiberOptics/blob/main/weektwo/channels_and_functions.ipynb\" target=\"_parent\"><img src=\"https://colab.research.google.com/assets/colab-badge.svg\" alt=\"Open In Colab\"/></a>"
      ]
    },
    {
      "cell_type": "code",
      "source": [
        "import numpy as np\n",
        "import matplotlib.pyplot as plt\n",
        "import scipy as sp\n",
        "length = 3000\n",
        "span = 100\n",
        "sps = 50\n",
        "symbol_rate = 10e9 #10 gigabauds\n",
        "EDFA_total_power = 15 #dbm\n",
        "lambda_light = 1543e-9\n",
        "f_light = 3e8/lambda_light\n",
        "#fiber data sheet used : https://www.corning.com/media/worldwide/coc/documents/Fiber/product-information-sheets/PI-1470-AEN.pdf\n",
        "dispersion = 18 #ps/nm/km\n",
        "distance = np.arange(0,length,1)\n",
        "EDFA_noise = 4.7\n",
        "measured_nm =[1517, 1517.1683, 1517.5523, 1517.9365, 1518.3209, 1518.7055, 1519.0902, 1519.4752, 1519.8604, 1520.2547, 1520.6313, 1521.017, 1521.403, 1521.7891, 1522.1755, 1522.562, 1522.9487, 1523.3357, 1523.7228, 1524.1101, 1524.4976, 1524.8853, 1525.2733, 1525.6614, 1526.0497, 1526.4382, 1526.8269, 1527.2158, 1527.6049, 1527.9942, 1528.3837, 1528.7734, 1529.1633, 1529.5534, 1529.9436, 1530.3341, 1530.7248, 1531.1157, 1531.5068, 1531.8981, 1532.2896, 1532.6813, 1533.0732, 1533.4653, 1533.8575, 1534.25, 1534.6427, 1535.0356, 1535.4287, 1535.822, 1536.2155, 1536.6092, 1537.003, 1537.3972, 1537.7915, 1538.186, 1538.5807, 1538.9757, 1539.3708, 1539.7661, 1540.1616, 1540.5573, 1540.9533, 1541.3494, 1541.7457, 1542.1423, 1542.539, 1542.936, 1543.333, 1543.73, 1544.128, 1544.5258, 1544.9238, 1545.3219, 1545.72, 1546.1189, 1546.5177, 1546.9167, 1547.3159, 1547.7153, 1548.1149, 1548.5148, 1548.9148, 1549.315, 1549.7155, 1550.116, 1550.517, 1550.918, 1551.319, 1551.72, 1552.1225, 1552.52, 1552.926, 1553.328, 1553.73, 1554.134, 1554.537, 1554.94, 1555.34, 1555.747, 1556.15, 1556.55, 1556.96, 1557.36, 1557.768, 1557.768, 1558.17, 1558.5779, 1558.9831, 1559.388, 1559.794, 1560.2, 1560.6, 1561.012, 1561.42, 1561.826, 1562.232, 1562.6399, 1563.047, 1563.047, 1563.4548, 1563.8626, 1564.27, 1564.678, 1565.087, 1565.4959, 1565.9047, 1566.3138, 1566.72, 1567.13, 1567.54, 1567.95, 1568.36, 1568.36, 1568.77, 1569.18, 1569.594, 1570, 1570.416, 1570.83, 1571.239, 1571.65, 1572.06, 1572.475, 1572.888, 1573.3, 1573.71, 1574.127, 1574.54, 1574.95, 1575.367, 1575.78, 1576.196, 1576.61, 1577.03, 1577.44, 1577.85, 1578.27, 1578.686, 1579.102, 1579.52, 1579.94, 1580.35, 1581]\n",
        "measured_db =[0, 8.43, 8.58, 8.76, 8.96, 9.19, 9.44, 9.71, 10, 10.31, 10.64, 10.98, 11.34, 11.71, 12.1, 12.5, 12.91, 13.33, 13.75, 14.19, 14.64, 15.09, 15.54, 16, 16.46, 16.92, 17.38, 17.85, 18.31, 18.76, 19.22, 19.67, 20.11, 20.54, 20.97, 21.41, 21.82, 22.17, 22.45, 22.65, 22.77, 22.8, 22.72, 22.55, 22.29, 21.96, 21.57, 21.13, 20.67, 20.21, 19.78, 19.39, 19.06, 18.8, 18.6, 18.46, 18.38, 18.36, 18.39, 18.46, 18.56, 18.7, 18.85, 19.03, 19.23, 19.43, 19.63, 19.8, 20, 20.2, 20.37, 20.53, 20.67, 20.8, 20.9, 21, 21.12, 21.21, 21.29, 21.36, 21.43, 21.48, 21.52, 21.55, 21.58, 21.59, 21.6, 21.6, 21.59, 21.58, 21.57, 21.55, 21.54, 21.52, 21.5, 21.5, 21.5, 21.4, 21.4, 21.4, 21.36, 21.3, 21.3, 21.25, 21.2, 21.2, 21.14, 21.07, 21, 20.89, 20.8, 20.68, 20.56, 20.44, 20.32, 20.2, 20.06, 19.93, 19.79, 19.79, 19.65, 19.5, 19.34, 19.18, 19, 18.84, 18.66, 18.47, 18.28, 18, 17.88, 17.67, 17.46, 17.46, 17.24, 17, 16.78, 16.55, 16.3, 16, 15.8, 15.54, 15.27, 15, 14.72, 14.4, 14.14, 13.85, 13.54, 13.24, 12.9, 12.6, 12.28, 11.94, 11.6, 11.26, 10.9, 10.56, 10.2, 9.83, 9.45, 9.07, 8.68, 0]\n"
      ],
      "metadata": {
        "id": "K8xHNzKeNdHl"
      },
      "execution_count": 2,
      "outputs": []
    },
    {
      "cell_type": "code",
      "source": [
        "#This code is AI- assisted and is used for the generation of psuedorandom data to test the dispersion\n",
        "def gen_random_data(type, amount):\n",
        "  if type == '16qam':\n",
        "    # 1. Generate random bits\n",
        "    random_bits = np.random.randint(0, 2, 4*amount)\n",
        "\n",
        "    # 2. Reshape into groups of 4 bits\n",
        "    bit_groups = random_bits.reshape(-1, 4)\n",
        "\n",
        "    # 3. Map 4-bit groups to 16-QAM constellation points\n",
        "    # Define the 16-QAM constellation mapping\n",
        "    qam16_mapping = {\n",
        "        (0, 0, 0, 0): -3 - 3j, (0, 0, 0, 1): -3 - 1j, (0, 0, 1, 0): -3 + 3j, (0, 0, 1, 1): -3 + 1j,\n",
        "        (0, 1, 0, 0): -1 - 3j, (0, 1, 0, 1): -1 - 1j, (0, 1, 1, 0): -1 + 3j, (0, 1, 1, 1): -1 + 1j,\n",
        "        (1, 0, 0, 0):  3 - 3j, (1, 0, 0, 1):  3 - 1j, (1, 0, 1, 0):  3 + 3j, (1, 0, 1, 1):  3 + 1j,\n",
        "        (1, 1, 0, 0):  1 - 3j, (1, 1, 0, 1):  1 - 1j, (1, 1, 1, 0):  1 + 3j, (1, 1, 1, 1): 1 + 1j\n",
        "    }\n",
        "\n",
        "    qam16_symbols = np.array([qam16_mapping[tuple(group)] for group in bit_groups])\n",
        "    return qam16_symbols\n",
        "  elif type == 'qpsk':\n",
        "    # 1. Generate random bits\n",
        "    random_bits_qpsk = np.random.randint(0, 2, 2*amount)\n",
        "\n",
        "    # 2. Reshape into groups of 2 bits\n",
        "    bit_groups_qpsk = random_bits_qpsk.reshape(-1, 2)\n",
        "\n",
        "    # 3. Map 2-bit groups to QPSK constellation points\n",
        "    # Define the QPSK constellation mapping\n",
        "    qpsk_mapping = {\n",
        "        (0, 0): -1 - 1j,\n",
        "        (0, 1): -1 + 1j,\n",
        "        (1, 0):  1 - 1j,\n",
        "        (1, 1):  1 + 1j\n",
        "    }\n",
        "\n",
        "    qpsk_symbols = np.array([qpsk_mapping[tuple(group)] for group in bit_groups_qpsk])\n",
        "    return qpsk_symbols\n",
        "  elif type == 'bpsk':\n",
        "    # 1. Generate random bits (0 or 1)\n",
        "    random_bits_bpsk = np.random.randint(0, 2, amount)\n",
        "\n",
        "    # 2. Map these bits to BPSK constellation points: 0 maps to -1, and 1 maps to 1.\n",
        "    # This can be done by multiplying by 2 and subtracting 1: 0*2 - 1 = -1, 1*2 - 1 = 1\n",
        "    bpsk_symbols = 2 * random_bits_bpsk - 1\n",
        "\n",
        "\n",
        "def attenuate(signal,attenuation,location,length):\n",
        "  #Takes the signal in mW, an attenuation in db/km, a location (index) for the signal, and a length in km\n",
        "  #Works forward, such that it can be used on location 0 but not location 3000 (no more fiber to attenuate in)\n",
        "  if location + 1 < length:\n",
        "    signal[location+1] = signal[location]*10**(-attenuation / 10)\n",
        "\n",
        "\n",
        "def const_power_EDFA(signal, noise, const_power,wavelength, EDFA_noise,location):\n",
        "  #Takes signal power(mW) and noise(mW), assumed to be vectors with length equal to total distance, const_power is the power to return to (initial power generally), wavelength of the light, EDFA noise figure, and the location along the fiber\n",
        "  EDFA_noise_linear = 10**(EDFA_noise/10)\n",
        "  planks_const = 6.626e-34 #J*s\n",
        "  bandwidth_nm = 0.1e-9 #0.1nm\n",
        "  f_light = 3e8/wavelength\n",
        "  bandwidth_freq = bandwidth_nm * (f_light / wavelength)\n",
        "  total_input_power = signal[location] + noise[location]\n",
        "  power_ase_per_amp_mW = planks_const * f_light * EDFA_noise_linear * bandwidth_freq *1000# (mW)\n",
        "  total_power_after_ase = total_input_power + power_ase_per_amp_mW\n",
        "  scaling_factor = const_power / total_power_after_ase if total_power_after_ase > 1e-15 else 0\n",
        "  signal[location] *= scaling_factor\n",
        "  noise[location] *= scaling_factor\n",
        "\n",
        "def const_power_EDFA_with_tilt_corrected(multi_channel_signal_power, multi_channel_noise, const_power_dBm, wavelength, EDFA_noise, location, gain_tilt_dB):\n",
        "    #In db :const_power_dBm, EDFA_noise, gain_tilt_dB\n",
        "    #In mW:  both multi channel inputs\n",
        "    EDFA_noise_linear = 10**(EDFA_noise/10)\n",
        "    planks_const = 6.626e-34 #J*s\n",
        "    bandwidth_nm = 0.1e-9 #0.1nm\n",
        "    f_light = 3e8/wavelength\n",
        "    bandwidth_freq = bandwidth_nm * (f_light / wavelength)\n",
        "\n",
        "    total_input_power_mW = np.sum(multi_channel_signal_power[:, location]) + np.sum(multi_channel_noise[:, location])\n",
        "    target_total_power_mW = 10**(const_power_dBm/10)\n",
        "\n",
        "    if total_input_power_mW < 1e-15:\n",
        "        overall_linear_gain_needed = 0\n",
        "    else:\n",
        "        overall_linear_gain_needed = target_total_power_mW / total_input_power_mW\n",
        "\n",
        "    avg_gain_dB = np.mean(gain_tilt_dB)\n",
        "    linear_gain_tilt_scaling = 10**((gain_tilt_dB - avg_gain_dB) / 10)\n",
        "\n",
        "    new_gains_linear = overall_linear_gain_needed * linear_gain_tilt_scaling\n",
        "\n",
        "    linear_gains_applied = new_gains_linear\n",
        "    power_ase_per_amp_mW_per_channel = planks_const * f_light * EDFA_noise_linear * bandwidth_freq * (linear_gains_applied - 1) * 1000\n",
        "    power_ase_per_amp_mW_per_channel[power_ase_per_amp_mW_per_channel < 0] = 0\n",
        "\n",
        "    multi_channel_signal_power[:, location] *= new_gains_linear\n",
        "    multi_channel_noise[:, location] *= new_gains_linear\n",
        "    multi_channel_noise[:, location] += power_ase_per_amp_mW_per_channel\n",
        "\n",
        "\n",
        "# The const_gain_EDFA function remains as is, as the focus was on const_power_EDFA\n",
        "def const_gain_EDFA(signal, noise, const_gain,wavelength, EDFA_noise,location):\n",
        "  #Takes signal power(mW) and noise(mW), assumed to be vectors with length equal to total distance, const_gain is the amplification gain(dB), wavelength of the light, EDFA noise figure, and the location along the fiber\n",
        "  #Returns the signal and noise arrays to save the data\n",
        "  #Adds ASE noise and amplifies by given gain\n",
        "  EDFA_noise_linear = 10**(EDFA_noise/10)\n",
        "  planks_const = 6.626e-34 #J*s\n",
        "  bandwidth_nm = 0.1e-9 #0.1nm\n",
        "  f_light = 3e8/wavelength\n",
        "  bandwidth_freq = bandwidth_nm * (f_light / wavelength)\n",
        "  power_ase_per_amp = planks_const * f_light * EDFA_noise_linear * (10**(const_gain/10) - 1) * bandwidth_freq *1000# (mW)\n",
        "  noise[location] += power_ase_per_amp\n",
        "  signal[location] *= 10**(const_gain/10)\n",
        "  noise[location] *= 10**(const_gain/10)\n",
        "  # return signal, noise # Returning the arrays\n",
        "\n",
        "def shape_signal(data,sps,num_weights,symbol_rate):\n",
        "  #Takes the raw data in any format, the samples per signal, the number of weights for the filter, and the symbol rate\n",
        "  #returns the signal where each pulse is replaced by a root raised cosine.\n",
        "  sampling_rate = sps * symbol_rate\n",
        "  time_step = 1 / sampling_rate # 1 / (500 * 10^9) seconds = 2 * 10^-12 seconds = 2 ps\n",
        "  #RRC\n",
        "  fs = sps\n",
        "  alpha = 0.1\n",
        "  x = 0.9999*np.arange(-int(num_weights/2),int(num_weights/2)+1,1)/fs\n",
        "  raised_cos_weights = np.sinc(x)*(np.cos(alpha*np.pi*x)/(1-((2*alpha*x)**2)))\n",
        "\n",
        "  #pulse shaping\n",
        "  # 1. Upsample the symbols by inserting zeros\n",
        "  upsampled_symbols = np.zeros(len(data) * sps, dtype=complex)\n",
        "  upsampled_symbols[::sps] = data\n",
        "\n",
        "  # 2. Convolve the upsampled signal with the raised_cos_weights filter.\n",
        "  shaped_signal = np.convolve(upsampled_symbols, raised_cos_weights, mode='full')\n",
        "  return shaped_signal\n",
        "\n",
        "#chomatic disperson\n",
        "def chrom_dispersion_total(positive_amount,negative_amount,lambda_signal, Is_Compensated, length,span):\n",
        "  distance = np.arange(0,length,1)\n",
        "  dispersion = np.zeros(len(distance))\n",
        "  pos_dispersion = positive_amount*lambda_signal*1e9\n",
        "  neg_dispersion = negative_amount*lambda_signal*1e9\n",
        "  if(Is_Compensated):\n",
        "    accumulated_dispersion = 0\n",
        "    current_slope = pos_dispersion # Start with the positive slope\n",
        "    for i in range(1, length):\n",
        "        # Check if we are at a span boundary\n",
        "        if i % span == 0:\n",
        "            # Swap the slope between positive_amount and negative_amount\n",
        "            if current_slope == pos_dispersion:\n",
        "                current_slope = neg_dispersion\n",
        "            else:\n",
        "                current_slope = pos_dispersion\n",
        "        accumulated_dispersion += current_slope # Add dispersion based on the current slope\n",
        "        dispersion[i] = accumulated_dispersion\n",
        "\n",
        "  else:\n",
        "    dispersion = distance*positive_amount # Only positive dispersion if not compensated\n",
        "\n",
        "  return dispersion"
      ],
      "metadata": {
        "id": "pjW-1NSgNjBP"
      },
      "execution_count": 10,
      "outputs": []
    },
    {
      "cell_type": "code",
      "source": [
        "plt.plot(measured_nm,measured_db)\n",
        "plt.xlabel('Wavelength (nm)')\n",
        "plt.grid()\n",
        "plt.ylabel('Amplification (dB)')"
      ],
      "metadata": {
        "colab": {
          "base_uri": "https://localhost:8080/",
          "height": 467
        },
        "id": "gK83DJFHR3d8",
        "outputId": "644c0f96-5dc8-4747-fecb-87a2133c14cb"
      },
      "execution_count": 4,
      "outputs": [
        {
          "output_type": "execute_result",
          "data": {
            "text/plain": [
              "Text(0, 0.5, 'Amplification (dB)')"
            ]
          },
          "metadata": {},
          "execution_count": 4
        },
        {
          "output_type": "display_data",
          "data": {
            "text/plain": [
              "<Figure size 640x480 with 1 Axes>"
            ],
            "image/png": "[encoded data removed]"
          },
          "metadata": {}
        }
      ]
    },
    {
      "cell_type": "markdown",
      "source": [
        "Im going to try to apply channels, we will see if it works"
      ],
      "metadata": {
        "id": "SiV9YOgrNoax"
      }
    },
    {
      "cell_type": "code",
      "source": [
        "channels = 70\n",
        "signal_length = 5000\n",
        "channeled_lambdas = np.zeros(channels)\n",
        "signals = np.zeros((channels, signal_length), dtype=complex)\n",
        "gain_weights = np.zeros(channels)\n",
        "channel_power = np.zeros(channels)\n",
        "total_chrom_dispersion = np.zeros((channels,length-1))\n",
        "def find_closest_numpy(data_array, target):\n",
        "    idx = np.abs(data_array - target).argmin()\n",
        "    return data_array[idx]\n",
        "\n",
        "for i in range(channels):\n",
        "  channel_power = EDFA_total_power-10*np.log10(channels)\n",
        "  channeled_lambdas[i] = lambda_light + i*0.3e-9\n",
        "  signals[i] = gen_random_data('16qam', signal_length)\n",
        "  gain_weights[i] = measured_db[measured_nm.index(find_closest_numpy(measured_nm, channeled_lambdas[i]*1e9))]\n",
        "print(gain_weights)"
      ],
      "metadata": {
        "id": "3tZLRhOPNjSR",
        "colab": {
          "base_uri": "https://localhost:8080/"
        },
        "outputId": "f75fbc24-c647-4a1f-b45a-21bf6bc71a1c"
      },
      "execution_count": 11,
      "outputs": [
        {
          "output_type": "stream",
          "name": "stdout",
          "text": [
            "[19.8  20.   20.2  20.2  20.37 20.53 20.67 20.67 20.8  20.9  21.   21.\n",
            " 21.12 21.21 21.29 21.29 21.36 21.43 21.48 21.48 21.52 21.55 21.58 21.58\n",
            " 21.59 21.6  21.6  21.6  21.59 21.58 21.57 21.57 21.55 21.54 21.52 21.52\n",
            " 21.5  21.5  21.5  21.5  21.4  21.4  21.4  21.4  21.36 21.3  21.3  21.3\n",
            " 21.25 21.2  21.14 21.14 21.07 21.   20.89 20.89 20.8  20.68 20.56 20.56\n",
            " 20.44 20.32 20.32 20.2  20.06 19.93 19.93 19.79 19.65 19.5 ]\n"
          ]
        }
      ]
    },
    {
      "cell_type": "code",
      "metadata": {
        "colab": {
          "base_uri": "https://localhost:8080/",
          "height": 219
        },
        "id": "5aae430c",
        "outputId": "565f29ed-df00-4fe6-bea4-7fe0a6fd416e"
      },
      "source": [
        "# Condensing the simulation and plotting into a single cell\n",
        "\n",
        "# Parameters defined in the first cell (assumed to be available)\n",
        "length = 3001\n",
        "# span = 100\n",
        "# EDFA_total_power = 15 # dbm\n",
        "# EDFA_noise = 4.7\n",
        "distance = np.arange(0, length, 1)\n",
        "# lambda_light = 1545e-9 # Used in calculating channeled_lambdas\n",
        "# measured_nm = [...] # Used in calculating gain_weights\n",
        "# measured_db = [...] # Used in calculating gain_weights\n",
        "\n",
        "# Recalculate variables previously assumed from earlier cells\n",
        "\n",
        "# Define the number of channels\n",
        "channels = 70\n",
        "\n",
        "# Calculate channeled_lambdas and gain_weights\n",
        "channeled_lambdas = np.zeros(channels)\n",
        "gain_weights = np.zeros(channels)\n",
        "\n",
        "\n",
        "\n",
        "def find_closest_numpy(data_array, target):\n",
        "    idx = np.abs(data_array - target).argmin()\n",
        "    return data_array[idx]\n",
        "\n",
        "for i in range(channels):\n",
        "  channeled_lambdas[i] = lambda_light + i*0.3e-9\n",
        "  # Find the closest measured wavelength and get its gain\n",
        "  closest_nm = find_closest_numpy(np.array(measured_nm), channeled_lambdas[i]*1e9)\n",
        "  closest_nm_index = measured_nm.index(closest_nm)\n",
        "  gain_weights[i] = measured_db[closest_nm_index]\n",
        "  total_chrom_dispersion[i] = chrom_dispersion_total(17,-16,channeled_lambdas[i],True,length,span)\n",
        "\n",
        "\n",
        "\n",
        "# Let's choose a channel with lower gain and a channel with higher gain based on the calculated gain_weights\n",
        "# Find the index of the channel with the minimum and maximum gain weights\n",
        "channel_index_1 = np.argmin(gain_weights)\n",
        "channel_index_2 = np.argmax(gain_weights)\n",
        "\n",
        "print(f\"Selected Channel 1 (Min Gain): Index {channel_index_1}, Wavelength: {channeled_lambdas[channel_index_1]*1e9:.4f} nm, Gain: {gain_weights[channel_index_1]:.2f} dB\")\n",
        "print(f\"Selected Channel 2 (Max Gain): Index {channel_index_2}, Wavelength: {channeled_lambdas[channel_index_2]*1e9:.4f} nm, Gain: {gain_weights[channel_index_2]:.2f} dB\")\n",
        "\n",
        "\n",
        "# Define fiber attenuation coefficient (typical value for standard single-mode fiber)\n",
        "attenuation_dB_per_km = 0.2\n",
        "# Convert attenuation from dB/km to a linear attenuation factor per kilometer\n",
        "attenuation_linear_per_km = 10**(-attenuation_dB_per_km / 10)\n",
        "\n",
        "# Calculate the starting power in mW for a single channel\n",
        "# Assuming EDFA_total_power is the total launch power in dBm,\n",
        "# the power per channel in dBm is EDFA_total_power - 10*log10(channels)\n",
        "starting_power_per_channel_dBm = EDFA_total_power - 10 * np.log10(channels)\n",
        "starting_power_mW = 10**(starting_power_per_channel_dBm / 10)\n",
        "\n",
        "# The target total power for the EDFA should be in dBm\n",
        "target_total_power_dBm = EDFA_total_power\n",
        "\n",
        "\n",
        "# Create arrays to store the signal and noise power for all channels during the iteration\n",
        "multi_channel_signal_power_iter = np.full((channels, length), starting_power_mW)\n",
        "multi_channel_noise_iter = np.zeros((channels, length))\n",
        "\n",
        "# Create arrays to store the power of the two selected channels during the iteration\n",
        "power_channel_1_iter = np.full(length, starting_power_mW)\n",
        "power_channel_2_iter = np.full(length, starting_power_mW)\n",
        "\n",
        "# --- Simulate Propagation ---\n",
        "# Iterate through the fiber length from the second kilometer (index 1)\n",
        "for i in range(1, length):\n",
        "    # Apply attenuation\n",
        "    power_channel_1_iter[i] = power_channel_1_iter[i-1] * attenuation_linear_per_km\n",
        "    power_channel_2_iter[i] = power_channel_2_iter[i-1] * attenuation_linear_per_km\n",
        "\n",
        "    multi_channel_signal_power_iter[:, i] = multi_channel_signal_power_iter[:, i-1] * attenuation_linear_per_km\n",
        "    multi_channel_noise_iter[:, i] = multi_channel_noise_iter[:, i-1] * attenuation_linear_per_km\n",
        "\n",
        "\n",
        "    # Apply EDFA at span locations\n",
        "    if i % span == 0 and i > 0: # Assuming EDFA is placed every 'span' km, starting after the first span\n",
        "        const_power_EDFA_with_tilt_corrected(multi_channel_signal_power_iter, multi_channel_noise_iter, target_total_power_dBm, channeled_lambdas, EDFA_noise, i, gain_weights)\n",
        "\n",
        "        # Update the power of the two selected channels\n",
        "        power_channel_1_iter[i] = multi_channel_signal_power_iter[channel_index_1, i]\n",
        "        power_channel_2_iter[i] = multi_channel_signal_power_iter[channel_index_2, i]\n",
        "\n",
        "# --- Visualize Power Change ---\n",
        "# Convert power from mW to dBm\n",
        "power_channel_1_dbm = 10 * np.log10(power_channel_1_iter)\n",
        "power_channel_2_dbm = 10 * np.log10(power_channel_2_iter)\n",
        "\n",
        "# Create the plot\n",
        "plt.figure(figsize=(10, 6))\n",
        "plt.plot(distance, power_channel_1_dbm, label=f\"Channel {channel_index_1} (Gain: {gain_weights[channel_index_1]:.2f} dB)\")\n",
        "plt.plot(distance, power_channel_2_dbm, label=f\"Channel {channel_index_2}: (Gain: {gain_weights[channel_index_2]:.2f} dB)\")\n",
        "\n",
        "# Set labels and title\n",
        "plt.xlabel('Distance (km)')\n",
        "plt.ylabel('Power (dBm)')\n",
        "plt.title('Power Change Along Fiber for Two Channels with Different Gains')\n",
        "\n",
        "# Add legend and grid\n",
        "plt.legend()\n",
        "plt.grid(True)\n",
        "\n",
        "# Display the plot\n",
        "plt.show()"
      ],
      "execution_count": 12,
      "outputs": [
        {
          "output_type": "error",
          "ename": "ValueError",
          "evalue": "could not broadcast input array from shape (3001,) into shape (3000,)",
          "traceback": [
            "\u001b[0;31m---------------------------------------------------------------------------\u001b[0m",
            "\u001b[0;31mValueError\u001b[0m                                Traceback (most recent call last)",
            "\u001b[0;32m<ipython-input-12-2697144943>\u001b[0m in \u001b[0;36m<cell line: 0>\u001b[0;34m()\u001b[0m\n\u001b[1;32m     32\u001b[0m   \u001b[0mclosest_nm_index\u001b[0m \u001b[0;34m=\u001b[0m \u001b[0mmeasured_nm\u001b[0m\u001b[0;34m.\u001b[0m\u001b[0mindex\u001b[0m\u001b[0;34m(\u001b[0m\u001b[0mclosest_nm\u001b[0m\u001b[0;34m)\u001b[0m\u001b[0;34m\u001b[0m\u001b[0;34m\u001b[0m\u001b[0m\n\u001b[1;32m     33\u001b[0m   \u001b[0mgain_weights\u001b[0m\u001b[0;34m[\u001b[0m\u001b[0mi\u001b[0m\u001b[0;34m]\u001b[0m \u001b[0;34m=\u001b[0m \u001b[0mmeasured_db\u001b[0m\u001b[0;34m[\u001b[0m\u001b[0mclosest_nm_index\u001b[0m\u001b[0;34m]\u001b[0m\u001b[0;34m\u001b[0m\u001b[0;34m\u001b[0m\u001b[0m\n\u001b[0;32m---> 34\u001b[0;31m   \u001b[0mtotal_chrom_dispersion\u001b[0m\u001b[0;34m[\u001b[0m\u001b[0mi\u001b[0m\u001b[0;34m]\u001b[0m \u001b[0;34m=\u001b[0m \u001b[0mchrom_dispersion_total\u001b[0m\u001b[0;34m(\u001b[0m\u001b[0;36m17\u001b[0m\u001b[0;34m,\u001b[0m\u001b[0;34m-\u001b[0m\u001b[0;36m16\u001b[0m\u001b[0;34m,\u001b[0m\u001b[0mchanneled_lambdas\u001b[0m\u001b[0;34m[\u001b[0m\u001b[0mi\u001b[0m\u001b[0;34m]\u001b[0m\u001b[0;34m,\u001b[0m\u001b[0;32mTrue\u001b[0m\u001b[0;34m,\u001b[0m\u001b[0mlength\u001b[0m\u001b[0;34m,\u001b[0m\u001b[0mspan\u001b[0m\u001b[0;34m)\u001b[0m\u001b[0;34m\u001b[0m\u001b[0;34m\u001b[0m\u001b[0m\n\u001b[0m\u001b[1;32m     35\u001b[0m \u001b[0;34m\u001b[0m\u001b[0m\n\u001b[1;32m     36\u001b[0m \u001b[0;34m\u001b[0m\u001b[0m\n",
            "\u001b[0;31mValueError\u001b[0m: could not broadcast input array from shape (3001,) into shape (3000,)"
          ]
        }
      ]
    },
    {
      "cell_type": "code",
      "metadata": {
        "colab": {
          "base_uri": "https://localhost:8080/",
          "height": 900
        },
        "id": "6aa95122",
        "outputId": "536edad1-4826-4b77-a78c-11c6866860a2"
      },
      "source": [
        "# Assuming distance_plot, dispersion_plot_ch1, and dispersion_plot_ch2 are already calculated\n",
        "# and contain the accumulated chromatic dispersion for the two channels over distance.\n",
        "\n",
        "plt.figure(figsize=(10, 6))\n",
        "plt.plot(distance, total_chrom_dispersion[0], label=f\"lowest wavelength\")\n",
        "plt.plot(distance, total_chrom_dispersion[69], label=f\"highest wavelength\")\n",
        "# Set labels and title\n",
        "plt.xlabel('Distance (km)')\n",
        "plt.ylabel('Accumulated Chromatic Dispersion (ps)')\n",
        "plt.title('Accumulated Chromatic Dispersion Along Fiber for Two Channels')\n",
        "\n",
        "# Add legend and grid\n",
        "plt.legend()\n",
        "plt.grid(True)\n",
        "\n",
        "# Display the plot\n",
        "plt.show()"
      ],
      "execution_count": 13,
      "outputs": [
        {
          "output_type": "error",
          "ename": "ValueError",
          "evalue": "x and y must have same first dimension, but have shapes (3001,) and (3000,)",
          "traceback": [
            "\u001b[0;31m---------------------------------------------------------------------------\u001b[0m",
            "\u001b[0;31mValueError\u001b[0m                                Traceback (most recent call last)",
            "\u001b[0;32m<ipython-input-13-2182396000>\u001b[0m in \u001b[0;36m<cell line: 0>\u001b[0;34m()\u001b[0m\n\u001b[1;32m      3\u001b[0m \u001b[0;34m\u001b[0m\u001b[0m\n\u001b[1;32m      4\u001b[0m \u001b[0mplt\u001b[0m\u001b[0;34m.\u001b[0m\u001b[0mfigure\u001b[0m\u001b[0;34m(\u001b[0m\u001b[0mfigsize\u001b[0m\u001b[0;34m=\u001b[0m\u001b[0;34m(\u001b[0m\u001b[0;36m10\u001b[0m\u001b[0;34m,\u001b[0m \u001b[0;36m6\u001b[0m\u001b[0;34m)\u001b[0m\u001b[0;34m)\u001b[0m\u001b[0;34m\u001b[0m\u001b[0;34m\u001b[0m\u001b[0m\n\u001b[0;32m----> 5\u001b[0;31m \u001b[0mplt\u001b[0m\u001b[0;34m.\u001b[0m\u001b[0mplot\u001b[0m\u001b[0;34m(\u001b[0m\u001b[0mdistance\u001b[0m\u001b[0;34m,\u001b[0m \u001b[0mtotal_chrom_dispersion\u001b[0m\u001b[0;34m[\u001b[0m\u001b[0;36m0\u001b[0m\u001b[0;34m]\u001b[0m\u001b[0;34m,\u001b[0m \u001b[0mlabel\u001b[0m\u001b[0;34m=\u001b[0m\u001b[0;34mf\"lowest wavelength\"\u001b[0m\u001b[0;34m)\u001b[0m\u001b[0;34m\u001b[0m\u001b[0;34m\u001b[0m\u001b[0m\n\u001b[0m\u001b[1;32m      6\u001b[0m \u001b[0mplt\u001b[0m\u001b[0;34m.\u001b[0m\u001b[0mplot\u001b[0m\u001b[0;34m(\u001b[0m\u001b[0mdistance\u001b[0m\u001b[0;34m,\u001b[0m \u001b[0mtotal_chrom_dispersion\u001b[0m\u001b[0;34m[\u001b[0m\u001b[0;36m69\u001b[0m\u001b[0;34m]\u001b[0m\u001b[0;34m,\u001b[0m \u001b[0mlabel\u001b[0m\u001b[0;34m=\u001b[0m\u001b[0;34mf\"highest wavelength\"\u001b[0m\u001b[0;34m)\u001b[0m\u001b[0;34m\u001b[0m\u001b[0;34m\u001b[0m\u001b[0m\n\u001b[1;32m      7\u001b[0m \u001b[0;31m# Set labels and title\u001b[0m\u001b[0;34m\u001b[0m\u001b[0;34m\u001b[0m\u001b[0m\n",
            "\u001b[0;32m/usr/local/lib/python3.11/dist-packages/matplotlib/pyplot.py\u001b[0m in \u001b[0;36mplot\u001b[0;34m(scalex, scaley, data, *args, **kwargs)\u001b[0m\n\u001b[1;32m   3827\u001b[0m     \u001b[0;34m**\u001b[0m\u001b[0mkwargs\u001b[0m\u001b[0;34m,\u001b[0m\u001b[0;34m\u001b[0m\u001b[0;34m\u001b[0m\u001b[0m\n\u001b[1;32m   3828\u001b[0m ) -> list[Line2D]:\n\u001b[0;32m-> 3829\u001b[0;31m     return gca().plot(\n\u001b[0m\u001b[1;32m   3830\u001b[0m         \u001b[0;34m*\u001b[0m\u001b[0margs\u001b[0m\u001b[0;34m,\u001b[0m\u001b[0;34m\u001b[0m\u001b[0;34m\u001b[0m\u001b[0m\n\u001b[1;32m   3831\u001b[0m         \u001b[0mscalex\u001b[0m\u001b[0;34m=\u001b[0m\u001b[0mscalex\u001b[0m\u001b[0;34m,\u001b[0m\u001b[0;34m\u001b[0m\u001b[0;34m\u001b[0m\u001b[0m\n",
            "\u001b[0;32m/usr/local/lib/python3.11/dist-packages/matplotlib/axes/_axes.py\u001b[0m in \u001b[0;36mplot\u001b[0;34m(self, scalex, scaley, data, *args, **kwargs)\u001b[0m\n\u001b[1;32m   1775\u001b[0m         \"\"\"\n\u001b[1;32m   1776\u001b[0m         \u001b[0mkwargs\u001b[0m \u001b[0;34m=\u001b[0m \u001b[0mcbook\u001b[0m\u001b[0;34m.\u001b[0m\u001b[0mnormalize_kwargs\u001b[0m\u001b[0;34m(\u001b[0m\u001b[0mkwargs\u001b[0m\u001b[0;34m,\u001b[0m \u001b[0mmlines\u001b[0m\u001b[0;34m.\u001b[0m\u001b[0mLine2D\u001b[0m\u001b[0;34m)\u001b[0m\u001b[0;34m\u001b[0m\u001b[0;34m\u001b[0m\u001b[0m\n\u001b[0;32m-> 1777\u001b[0;31m         \u001b[0mlines\u001b[0m \u001b[0;34m=\u001b[0m \u001b[0;34m[\u001b[0m\u001b[0;34m*\u001b[0m\u001b[0mself\u001b[0m\u001b[0;34m.\u001b[0m\u001b[0m_get_lines\u001b[0m\u001b[0;34m(\u001b[0m\u001b[0mself\u001b[0m\u001b[0;34m,\u001b[0m \u001b[0;34m*\u001b[0m\u001b[0margs\u001b[0m\u001b[0;34m,\u001b[0m \u001b[0mdata\u001b[0m\u001b[0;34m=\u001b[0m\u001b[0mdata\u001b[0m\u001b[0;34m,\u001b[0m \u001b[0;34m**\u001b[0m\u001b[0mkwargs\u001b[0m\u001b[0;34m)\u001b[0m\u001b[0;34m]\u001b[0m\u001b[0;34m\u001b[0m\u001b[0;34m\u001b[0m\u001b[0m\n\u001b[0m\u001b[1;32m   1778\u001b[0m         \u001b[0;32mfor\u001b[0m \u001b[0mline\u001b[0m \u001b[0;32min\u001b[0m \u001b[0mlines\u001b[0m\u001b[0;34m:\u001b[0m\u001b[0;34m\u001b[0m\u001b[0;34m\u001b[0m\u001b[0m\n\u001b[1;32m   1779\u001b[0m             \u001b[0mself\u001b[0m\u001b[0;34m.\u001b[0m\u001b[0madd_line\u001b[0m\u001b[0;34m(\u001b[0m\u001b[0mline\u001b[0m\u001b[0;34m)\u001b[0m\u001b[0;34m\u001b[0m\u001b[0;34m\u001b[0m\u001b[0m\n",
            "\u001b[0;32m/usr/local/lib/python3.11/dist-packages/matplotlib/axes/_base.py\u001b[0m in \u001b[0;36m__call__\u001b[0;34m(self, axes, data, return_kwargs, *args, **kwargs)\u001b[0m\n\u001b[1;32m    295\u001b[0m                 \u001b[0mthis\u001b[0m \u001b[0;34m+=\u001b[0m \u001b[0margs\u001b[0m\u001b[0;34m[\u001b[0m\u001b[0;36m0\u001b[0m\u001b[0;34m]\u001b[0m\u001b[0;34m,\u001b[0m\u001b[0;34m\u001b[0m\u001b[0;34m\u001b[0m\u001b[0m\n\u001b[1;32m    296\u001b[0m                 \u001b[0margs\u001b[0m \u001b[0;34m=\u001b[0m \u001b[0margs\u001b[0m\u001b[0;34m[\u001b[0m\u001b[0;36m1\u001b[0m\u001b[0;34m:\u001b[0m\u001b[0;34m]\u001b[0m\u001b[0;34m\u001b[0m\u001b[0;34m\u001b[0m\u001b[0m\n\u001b[0;32m--> 297\u001b[0;31m             yield from self._plot_args(\n\u001b[0m\u001b[1;32m    298\u001b[0m                 \u001b[0maxes\u001b[0m\u001b[0;34m,\u001b[0m \u001b[0mthis\u001b[0m\u001b[0;34m,\u001b[0m \u001b[0mkwargs\u001b[0m\u001b[0;34m,\u001b[0m \u001b[0mambiguous_fmt_datakey\u001b[0m\u001b[0;34m=\u001b[0m\u001b[0mambiguous_fmt_datakey\u001b[0m\u001b[0;34m,\u001b[0m\u001b[0;34m\u001b[0m\u001b[0;34m\u001b[0m\u001b[0m\n\u001b[1;32m    299\u001b[0m                 \u001b[0mreturn_kwargs\u001b[0m\u001b[0;34m=\u001b[0m\u001b[0mreturn_kwargs\u001b[0m\u001b[0;34m\u001b[0m\u001b[0;34m\u001b[0m\u001b[0m\n",
            "\u001b[0;32m/usr/local/lib/python3.11/dist-packages/matplotlib/axes/_base.py\u001b[0m in \u001b[0;36m_plot_args\u001b[0;34m(self, axes, tup, kwargs, return_kwargs, ambiguous_fmt_datakey)\u001b[0m\n\u001b[1;32m    492\u001b[0m \u001b[0;34m\u001b[0m\u001b[0m\n\u001b[1;32m    493\u001b[0m         \u001b[0;32mif\u001b[0m \u001b[0mx\u001b[0m\u001b[0;34m.\u001b[0m\u001b[0mshape\u001b[0m\u001b[0;34m[\u001b[0m\u001b[0;36m0\u001b[0m\u001b[0;34m]\u001b[0m \u001b[0;34m!=\u001b[0m \u001b[0my\u001b[0m\u001b[0;34m.\u001b[0m\u001b[0mshape\u001b[0m\u001b[0;34m[\u001b[0m\u001b[0;36m0\u001b[0m\u001b[0;34m]\u001b[0m\u001b[0;34m:\u001b[0m\u001b[0;34m\u001b[0m\u001b[0;34m\u001b[0m\u001b[0m\n\u001b[0;32m--> 494\u001b[0;31m             raise ValueError(f\"x and y must have same first dimension, but \"\n\u001b[0m\u001b[1;32m    495\u001b[0m                              f\"have shapes {x.shape} and {y.shape}\")\n\u001b[1;32m    496\u001b[0m         \u001b[0;32mif\u001b[0m \u001b[0mx\u001b[0m\u001b[0;34m.\u001b[0m\u001b[0mndim\u001b[0m \u001b[0;34m>\u001b[0m \u001b[0;36m2\u001b[0m \u001b[0;32mor\u001b[0m \u001b[0my\u001b[0m\u001b[0;34m.\u001b[0m\u001b[0mndim\u001b[0m \u001b[0;34m>\u001b[0m \u001b[0;36m2\u001b[0m\u001b[0;34m:\u001b[0m\u001b[0;34m\u001b[0m\u001b[0;34m\u001b[0m\u001b[0m\n",
            "\u001b[0;31mValueError\u001b[0m: x and y must have same first dimension, but have shapes (3001,) and (3000,)"
          ]
        },
        {
          "output_type": "display_data",
          "data": {
            "text/plain": [
              "<Figure size 1000x600 with 1 Axes>"
            ],
            "image/png": "[encoded data removed]"
          },
          "metadata": {}
        }
      ]
    },
    {
      "cell_type": "code",
      "source": [
        "plt.stem(channels,total_chrom_dispersion)"
      ],
      "metadata": {
        "id": "Ir4LGUh5UnAf"
      },
      "execution_count": null,
      "outputs": []
    },
    {
      "cell_type": "code",
      "source": [],
      "metadata": {
        "id": "8UZjY_HOdPNi"
      },
      "execution_count": null,
      "outputs": []
    }
  ],
  "metadata": {
    "colab": {
      "name": "Markdown Guide",
      "provenance": [],
      "include_colab_link": true
    },
    "kernelspec": {
      "display_name": "Python 3",
      "name": "python3"
    }
  },
  "nbformat": 4,
  "nbformat_minor": 0
}